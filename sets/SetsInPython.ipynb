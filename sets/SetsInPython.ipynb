{
 "cells": [
  {
   "cell_type": "markdown",
   "id": "d6c6d44c",
   "metadata": {},
   "source": [
    "## What is a Set?\n",
    "\n",
    "A **set** is an **unordered** collection of **distinct** objects, which may be anything (including other sets).\n",
    "\n",
    "The distinct objects are called elements or members of the set. \n",
    "\n",
    "A set is said to contain its elements.\n",
    "\n",
    "We write a ∈ A to denote that a is an element of the set A.\n",
    "\n",
    "The notation a ∉ A denotes that a is not an element of the set A."
   ]
  },
  {
   "cell_type": "markdown",
   "id": "0b0dfb8a",
   "metadata": {},
   "source": [
    "### Examples:\n",
    "\n",
    "- N = {0, 1, 2, 3,…}, the set of all natural numbers\n",
    "- Z = {…,−2,−1, 0, 1, 2,…}, the set of all integers\n",
    "- Z+ = {1, 2, 3,…}, the set of all positive integers\n",
    "- Q = {p ∕ q ∣ p ∈ Z, q ∈ Z, and q ≠ 0}, the set of all rational numbers\n",
    "- R, the set of all real numbers\n",
    "- R+, the set of all positive real numbers\n",
    "- C, the set of all complex numbers"
   ]
  },
  {
   "cell_type": "markdown",
   "id": "d94cb265",
   "metadata": {},
   "source": [
    "## Declaring sets: {} or set()"
   ]
  },
  {
   "cell_type": "code",
   "execution_count": 26,
   "id": "ce16a218",
   "metadata": {
    "scrolled": true
   },
   "outputs": [
    {
     "name": "stdout",
     "output_type": "stream",
     "text": [
      "{'a', 'u', 'i', 'o', 'e'}\n",
      "<class 'set'>\n"
     ]
    }
   ],
   "source": [
    "V = {'a', 'e', 'i', 'o', 'u'}\n",
    "print(V)\n",
    "print(type(V))"
   ]
  },
  {
   "cell_type": "code",
   "execution_count": 27,
   "id": "c9bc2251",
   "metadata": {},
   "outputs": [
    {
     "name": "stdout",
     "output_type": "stream",
     "text": [
      "{'a', 'u', 'i', 'o', 'e'}\n",
      "<class 'set'>\n"
     ]
    }
   ],
   "source": [
    "W = set(['a', 'a','e','e', 'i', 'i', 'o','o', 'u', 'u']) \n",
    "print(W)\n",
    "print(type(W))"
   ]
  },
  {
   "cell_type": "markdown",
   "id": "c717d2f3",
   "metadata": {},
   "source": [
    "Distinct:  repetition is not recognized in a set."
   ]
  },
  {
   "cell_type": "code",
   "execution_count": 9,
   "id": "5dfb849e",
   "metadata": {},
   "outputs": [
    {
     "name": "stdout",
     "output_type": "stream",
     "text": [
      "True\n"
     ]
    }
   ],
   "source": [
    "print(V == W)"
   ]
  },
  {
   "cell_type": "markdown",
   "id": "4ef1f029",
   "metadata": {},
   "source": [
    "Unordered: order is not recognized in a set."
   ]
  },
  {
   "cell_type": "code",
   "execution_count": 10,
   "id": "d79d3098",
   "metadata": {},
   "outputs": [
    {
     "name": "stdout",
     "output_type": "stream",
     "text": [
      "True\n"
     ]
    }
   ],
   "source": [
    "A = {1,2,3,4,5}\n",
    "B = {5,4,3,2,1}\n",
    "print(A == B)"
   ]
  },
  {
   "cell_type": "markdown",
   "id": "3da2f83f",
   "metadata": {},
   "source": [
    "## Empty set"
   ]
  },
  {
   "cell_type": "code",
   "execution_count": 13,
   "id": "b60ce0f8",
   "metadata": {},
   "outputs": [
    {
     "name": "stdout",
     "output_type": "stream",
     "text": [
      "<class 'set'>\n",
      "0\n"
     ]
    }
   ],
   "source": [
    "C = set()\n",
    "print(type(C))\n",
    "print(len(C))"
   ]
  },
  {
   "cell_type": "markdown",
   "id": "4d1c3ada",
   "metadata": {},
   "source": [
    "Note that sets can contain other sets mathematically, but in Python, sets can only store immutable objects, thus cannot store another sets (except frozensets)."
   ]
  },
  {
   "cell_type": "code",
   "execution_count": 18,
   "id": "c862bfa9",
   "metadata": {},
   "outputs": [],
   "source": [
    "# Error: TypeError: unhashable type: 'set'\n",
    "# D = set([C]) "
   ]
  },
  {
   "cell_type": "code",
   "execution_count": 28,
   "id": "85ba6e13",
   "metadata": {},
   "outputs": [
    {
     "name": "stdout",
     "output_type": "stream",
     "text": [
      "<class 'set'>\n",
      "{frozenset()}\n"
     ]
    }
   ],
   "source": [
    "E = frozenset()  # immutable set\n",
    "F = {E}\n",
    "print(type(F))\n",
    "print(F)"
   ]
  },
  {
   "cell_type": "code",
   "execution_count": 29,
   "id": "03f6504e",
   "metadata": {},
   "outputs": [
    {
     "name": "stdout",
     "output_type": "stream",
     "text": [
      "False\n"
     ]
    }
   ],
   "source": [
    "print(E == F)"
   ]
  },
  {
   "cell_type": "code",
   "execution_count": 30,
   "id": "8fcff7f9",
   "metadata": {},
   "outputs": [
    {
     "name": "stdout",
     "output_type": "stream",
     "text": [
      "0\n"
     ]
    }
   ],
   "source": [
    "print(len(E))"
   ]
  },
  {
   "cell_type": "code",
   "execution_count": 31,
   "id": "92eb11d7",
   "metadata": {},
   "outputs": [
    {
     "name": "stdout",
     "output_type": "stream",
     "text": [
      "1\n"
     ]
    }
   ],
   "source": [
    "print(len(F))"
   ]
  },
  {
   "cell_type": "markdown",
   "id": "48914c1a",
   "metadata": {},
   "source": [
    "## Equality of Sets\n",
    "\n",
    "Two sets are equal if and only if they have the same elements. "
   ]
  },
  {
   "cell_type": "code",
   "execution_count": 25,
   "id": "90063210",
   "metadata": {},
   "outputs": [
    {
     "name": "stdout",
     "output_type": "stream",
     "text": [
      "{'a', 'u', 'i', 'o', 'e'}\n",
      "{'a', 'u', 'i', 'o', 'e'}\n",
      "True\n"
     ]
    }
   ],
   "source": [
    "print(V) # {'a', 'e', 'i', 'o', 'u'}\n",
    "print(W) # {'a', 'a','e','e', 'i', 'i', 'o','o', 'u', 'u'}\n",
    "print(V == W)"
   ]
  },
  {
   "cell_type": "markdown",
   "id": "66aca518",
   "metadata": {},
   "source": [
    "## Set Operations"
   ]
  },
  {
   "cell_type": "markdown",
   "id": "83d45085",
   "metadata": {},
   "source": [
    "### Union: | operator, union()"
   ]
  },
  {
   "cell_type": "code",
   "execution_count": 33,
   "id": "1cca0068",
   "metadata": {},
   "outputs": [
    {
     "name": "stdout",
     "output_type": "stream",
     "text": [
      "{1, 2, 3, 4, 5}\n",
      "{1, 2, 3, 4, 5}\n"
     ]
    }
   ],
   "source": [
    "A = {1,2,3}\n",
    "B = {3,4,5}\n",
    "print(A|B)\n",
    "print(A.union(B))"
   ]
  },
  {
   "cell_type": "markdown",
   "id": "0a418a63",
   "metadata": {},
   "source": [
    "## Intersection: & operator, intersection()"
   ]
  },
  {
   "cell_type": "code",
   "execution_count": 34,
   "id": "5cd38aa9",
   "metadata": {},
   "outputs": [
    {
     "name": "stdout",
     "output_type": "stream",
     "text": [
      "{3}\n",
      "{3}\n"
     ]
    }
   ],
   "source": [
    "A = {1,2,3}\n",
    "B = {3,4,5}\n",
    "print(A&B)\n",
    "print(A.intersection(B))"
   ]
  },
  {
   "cell_type": "markdown",
   "id": "7388a466",
   "metadata": {},
   "source": [
    "### Difference: - operator, difference()"
   ]
  },
  {
   "cell_type": "code",
   "execution_count": 35,
   "id": "dc79b48a",
   "metadata": {},
   "outputs": [
    {
     "name": "stdout",
     "output_type": "stream",
     "text": [
      "{1, 2}\n",
      "{1, 2}\n"
     ]
    }
   ],
   "source": [
    "A = {1,2,3}\n",
    "B = {3,4,5}\n",
    "print(A-B)\n",
    "print(A.difference(B))"
   ]
  },
  {
   "cell_type": "markdown",
   "id": "d61237f6",
   "metadata": {},
   "source": [
    "### Symmetric difference: ^ operator, symmetric_difference() "
   ]
  },
  {
   "cell_type": "code",
   "execution_count": 37,
   "id": "840a8b95",
   "metadata": {},
   "outputs": [
    {
     "name": "stdout",
     "output_type": "stream",
     "text": [
      "{1, 2, 4, 5}\n",
      "{1, 2, 4, 5}\n"
     ]
    }
   ],
   "source": [
    "A = {1,2,3}\n",
    "B = {3,4,5}\n",
    "print(A^B)\n",
    "print(A.symmetric_difference(B))"
   ]
  },
  {
   "cell_type": "markdown",
   "id": "5b0cc7da",
   "metadata": {},
   "source": [
    "## Cardinality: len \n",
    "\n",
    "The cardinality of a set is the number of elements it contains.\n",
    "\n",
    "If S is a set, we denote its cardinality by writing |S|.\n"
   ]
  },
  {
   "cell_type": "code",
   "execution_count": 46,
   "id": "e70ac2a5",
   "metadata": {},
   "outputs": [
    {
     "name": "stdout",
     "output_type": "stream",
     "text": [
      "5\n"
     ]
    }
   ],
   "source": [
    "print(len({'a', 'b', 'c', 'd', 'e'}))"
   ]
  },
  {
   "cell_type": "code",
   "execution_count": 47,
   "id": "3da3c7f1",
   "metadata": {},
   "outputs": [
    {
     "name": "stdout",
     "output_type": "stream",
     "text": [
      "3\n"
     ]
    }
   ],
   "source": [
    "print(len({('a', 'b'), ('c', 'd', 'e', 'f', 'g'), ('h')}))\n",
    "# Note: Tuples are used to represent the inner sets for brevity.\n",
    "# A better representation would be to use frozenset() instead"
   ]
  },
  {
   "cell_type": "code",
   "execution_count": 48,
   "id": "4dce406c",
   "metadata": {},
   "outputs": [
    {
     "name": "stdout",
     "output_type": "stream",
     "text": [
      "3\n"
     ]
    }
   ],
   "source": [
    "print(len({1, 2, 3, 3, 3, 3, 3}))"
   ]
  },
  {
   "cell_type": "code",
   "execution_count": 50,
   "id": "b8b2610b",
   "metadata": {},
   "outputs": [
    {
     "name": "stdout",
     "output_type": "stream",
     "text": [
      "137\n",
      "{0, 1, 2, 3, 4, 5, 6, 7, 8, 9, 10, 11, 12, 13, 14, 15, 16, 17, 18, 19, 20, 21, 22, 23, 24, 25, 26, 27, 28, 29, 30, 31, 32, 33, 34, 35, 36, 37, 38, 39, 40, 41, 42, 43, 44, 45, 46, 47, 48, 49, 50, 51, 52, 53, 54, 55, 56, 57, 58, 59, 60, 61, 62, 63, 64, 65, 66, 67, 68, 69, 70, 71, 72, 73, 74, 75, 76, 77, 78, 79, 80, 81, 82, 83, 84, 85, 86, 87, 88, 89, 90, 91, 92, 93, 94, 95, 96, 97, 98, 99, 100, 101, 102, 103, 104, 105, 106, 107, 108, 109, 110, 111, 112, 113, 114, 115, 116, 117, 118, 119, 120, 121, 122, 123, 124, 125, 126, 127, 128, 129, 130, 131, 132, 133, 134, 135, 136}\n"
     ]
    }
   ],
   "source": [
    "G = {i for i in range(137)}\n",
    "print(len(G))\n",
    "print(G)"
   ]
  },
  {
   "cell_type": "markdown",
   "id": "7f3c4836",
   "metadata": {},
   "source": [
    "## Test if A is a subset of B: <= operator, issubset()"
   ]
  },
  {
   "cell_type": "code",
   "execution_count": 52,
   "id": "61d0fd18",
   "metadata": {},
   "outputs": [
    {
     "name": "stdout",
     "output_type": "stream",
     "text": [
      "True\n"
     ]
    }
   ],
   "source": [
    "A = {0, 1}\n",
    "B = {0, 1, 2, 3}\n",
    "\n",
    "print(A <= B)"
   ]
  },
  {
   "cell_type": "code",
   "execution_count": 53,
   "id": "69cb79e0",
   "metadata": {},
   "outputs": [
    {
     "name": "stdout",
     "output_type": "stream",
     "text": [
      "True\n"
     ]
    }
   ],
   "source": [
    "print(A.issubset(B))"
   ]
  },
  {
   "cell_type": "markdown",
   "id": "7d0c8e3a",
   "metadata": {},
   "source": [
    "Note: To test if a set is a proper subset, use the < operator, which returns False for equivalent sets."
   ]
  },
  {
   "cell_type": "code",
   "execution_count": 54,
   "id": "e71b1f53",
   "metadata": {},
   "outputs": [
    {
     "name": "stdout",
     "output_type": "stream",
     "text": [
      "True\n"
     ]
    }
   ],
   "source": [
    "print(A < B)"
   ]
  },
  {
   "cell_type": "code",
   "execution_count": 55,
   "id": "219e78b6",
   "metadata": {},
   "outputs": [
    {
     "name": "stdout",
     "output_type": "stream",
     "text": [
      "False\n"
     ]
    }
   ],
   "source": [
    "print(B < B)"
   ]
  },
  {
   "cell_type": "markdown",
   "id": "d05d42e0",
   "metadata": {},
   "source": [
    "## Test if A is a superset of B: >= operator, issuperset()"
   ]
  },
  {
   "cell_type": "code",
   "execution_count": 57,
   "id": "d9f72fed",
   "metadata": {},
   "outputs": [
    {
     "name": "stdout",
     "output_type": "stream",
     "text": [
      "True\n",
      "True\n"
     ]
    }
   ],
   "source": [
    "A = {0, 1}\n",
    "B = {0, 1, 2, 3}\n",
    "\n",
    "print(B >= A)\n",
    "print(B.issuperset(A))"
   ]
  },
  {
   "cell_type": "markdown",
   "id": "eec638e0",
   "metadata": {},
   "source": [
    "## Test if A and B are disjoint: isdisjoint()"
   ]
  },
  {
   "cell_type": "code",
   "execution_count": 60,
   "id": "ebbd07f3",
   "metadata": {},
   "outputs": [
    {
     "name": "stdout",
     "output_type": "stream",
     "text": [
      "False\n",
      "True\n"
     ]
    }
   ],
   "source": [
    "A = {0, 1}\n",
    "B = {1, 2}\n",
    "C = {2, 3}\n",
    "\n",
    "print(A.isdisjoint(B))\n",
    "print(A.isdisjoint(C))"
   ]
  },
  {
   "cell_type": "markdown",
   "id": "3216b405",
   "metadata": {},
   "source": [
    "## Other Python Set Methods\n",
    "\n",
    "- add() :\tAdds an element to the set\n",
    "- clear() :\tRemoves all elements from the set\n",
    "- copy() :\tReturns a copy of the set\n",
    "- difference() :\tReturns the difference of two or more sets as a new set\n",
    "- difference_update() :\tRemoves all elements of another set from this set\n",
    "- discard() :\tRemoves an element from the set if it is a member. (Do nothing if the element is not in set)\n",
    "- intersection() :\tReturns the intersection of two sets as a new set\n",
    "- intersection_update() :\tUpdates the set with the intersection of itself and another\n",
    "- isdisjoint() :\tReturns True if two sets have a null intersection\n",
    "- issubset() :\tReturns True if another set contains this set\n",
    "- issuperset() :\tReturns True if this set contains another set\n",
    "- pop() :\tRemoves and returns an arbitrary set element. Raises KeyError if the set is empty\n",
    "- remove() :\tRemoves an element from the set. If the element is not a member, raises a KeyError\n",
    "- symmetric_difference() :\tReturns the symmetric difference of two sets as a new set\n",
    "- symmetric_difference_update() :\tUpdates a set with the symmetric difference of itself and another\n",
    "- union() :\tReturns the union of sets in a new set\n",
    "- update() :\tUpdates the set with the union of itself and others"
   ]
  },
  {
   "cell_type": "markdown",
   "id": "cdda2cde",
   "metadata": {},
   "source": [
    "## Built-in Functions with Set\n",
    "\n",
    "Built-in functions like all(), any(), enumerate(), len(), max(), min(), sorted(), sum() etc. are commonly used with sets to perform different tasks.\n",
    "\n",
    " \n",
    "- all() :\tReturns True if all elements of the set are true (or if the set is empty).\n",
    "- any() :\tReturns True if any element of the set is true. If the set is empty, returns False.\n",
    "- enumerate():\tReturns an enumerate object. It contains the index and value for all the items of the set as a pair.\n",
    "- len() :\tReturns the length (the number of items) in the set.\n",
    "- max() :\tReturns the largest item in the set.\n",
    "- min() :\tReturns the smallest item in the set.\n",
    "- sorted() :\tReturns a new sorted list from elements in the set(does not sort the set itself).\n",
    "- sum() :\tReturns the sum of all elements in the set.\n"
   ]
  },
  {
   "cell_type": "raw",
   "id": "597de488",
   "metadata": {},
   "source": [
    "-mkc"
   ]
  }
 ],
 "metadata": {
  "kernelspec": {
   "display_name": "Python 3 (ipykernel)",
   "language": "python",
   "name": "python3"
  },
  "language_info": {
   "codemirror_mode": {
    "name": "ipython",
    "version": 3
   },
   "file_extension": ".py",
   "mimetype": "text/x-python",
   "name": "python",
   "nbconvert_exporter": "python",
   "pygments_lexer": "ipython3",
   "version": "3.8.12"
  }
 },
 "nbformat": 4,
 "nbformat_minor": 5
}
