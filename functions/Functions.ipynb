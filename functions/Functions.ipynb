{
 "cells": [
  {
   "cell_type": "markdown",
   "id": "8b80c350",
   "metadata": {},
   "source": [
    "## What are functions?\n",
    "\n",
    "Let A and B be sets. A function f from A to B is an assignment of exactly one element of B to each element of A.\n",
    "\n",
    "Functions are also called **mappings** or **transformations**.\n",
    "\n",
    "We write f(a) = b if b is the unique element of B assigned by the function f to the element of A.\n",
    "If f is a function from A to B, we write\n",
    "\n",
    "                   \t        f : A to B\n",
    "\n",
    "If f is a function from A to B , we say that A is the domain of f and B is the codomain of f.\n",
    "\n",
    "If f(a) = b, we say that b is the image of a.\n",
    "The range of f is the set of all images of elements of A. It is the set of values a function that actually occurs."
   ]
  },
  {
   "cell_type": "markdown",
   "id": "5f929be5",
   "metadata": {},
   "source": [
    "## Grading Function:"
   ]
  },
  {
   "cell_type": "code",
   "execution_count": 2,
   "id": "7d31bea0",
   "metadata": {},
   "outputs": [],
   "source": [
    "def compute_grade(raw_average):\n",
    "    if raw_average >= 94.5:\n",
    "        return \"4.0\"\n",
    "    elif raw_average >= 89.5:\n",
    "        return \"3.5\"\n",
    "    elif raw_average >= 84.5:\n",
    "        return \"3.0\"\n",
    "    elif raw_average >= 79.5:\n",
    "        return \"2.5\"\n",
    "    elif raw_average >= 74.5:\n",
    "        return \"2.0\"\n",
    "    elif raw_average >= 69.5:\n",
    "        return \"1.5\"\n",
    "    elif raw_average >= 64.5:\n",
    "        return \"1.0\"\n",
    "    else:\n",
    "        return \"0.0\""
   ]
  },
  {
   "cell_type": "code",
   "execution_count": 3,
   "id": "ffe2d095",
   "metadata": {},
   "outputs": [
    {
     "name": "stdout",
     "output_type": "stream",
     "text": [
      "score: 50 ; grade: 0.0\n",
      "score: 51 ; grade: 0.0\n",
      "score: 52 ; grade: 0.0\n",
      "score: 53 ; grade: 0.0\n",
      "score: 54 ; grade: 0.0\n",
      "score: 55 ; grade: 0.0\n",
      "score: 56 ; grade: 0.0\n",
      "score: 57 ; grade: 0.0\n",
      "score: 58 ; grade: 0.0\n",
      "score: 59 ; grade: 0.0\n",
      "score: 60 ; grade: 0.0\n",
      "score: 61 ; grade: 0.0\n",
      "score: 62 ; grade: 0.0\n",
      "score: 63 ; grade: 0.0\n",
      "score: 64 ; grade: 0.0\n",
      "score: 65 ; grade: 1.0\n",
      "score: 66 ; grade: 1.0\n",
      "score: 67 ; grade: 1.0\n",
      "score: 68 ; grade: 1.0\n",
      "score: 69 ; grade: 1.0\n",
      "score: 70 ; grade: 1.5\n",
      "score: 71 ; grade: 1.5\n",
      "score: 72 ; grade: 1.5\n",
      "score: 73 ; grade: 1.5\n",
      "score: 74 ; grade: 1.5\n",
      "score: 75 ; grade: 2.0\n",
      "score: 76 ; grade: 2.0\n",
      "score: 77 ; grade: 2.0\n",
      "score: 78 ; grade: 2.0\n",
      "score: 79 ; grade: 2.0\n",
      "score: 80 ; grade: 2.5\n",
      "score: 81 ; grade: 2.5\n",
      "score: 82 ; grade: 2.5\n",
      "score: 83 ; grade: 2.5\n",
      "score: 84 ; grade: 2.5\n",
      "score: 85 ; grade: 3.0\n",
      "score: 86 ; grade: 3.0\n",
      "score: 87 ; grade: 3.0\n",
      "score: 88 ; grade: 3.0\n",
      "score: 89 ; grade: 3.0\n",
      "score: 90 ; grade: 3.5\n",
      "score: 91 ; grade: 3.5\n",
      "score: 92 ; grade: 3.5\n",
      "score: 93 ; grade: 3.5\n",
      "score: 94 ; grade: 3.5\n",
      "score: 95 ; grade: 4.0\n",
      "score: 96 ; grade: 4.0\n",
      "score: 97 ; grade: 4.0\n",
      "score: 98 ; grade: 4.0\n",
      "score: 99 ; grade: 4.0\n",
      "score: 100 ; grade: 4.0\n"
     ]
    }
   ],
   "source": [
    "# Sample Testing of compute_grade() function\n",
    "for raw_ave in range(50,101):\n",
    "    print(\"score:\", raw_ave,\"; grade:\", compute_grade(raw_ave))"
   ]
  },
  {
   "cell_type": "markdown",
   "id": "bb7ebee3",
   "metadata": {},
   "source": [
    "## Square function:\n",
    "\n",
    "$$f(x) = x^2$$"
   ]
  },
  {
   "cell_type": "code",
   "execution_count": 4,
   "id": "ce244a62",
   "metadata": {},
   "outputs": [],
   "source": [
    "def square(number):\n",
    "    return number*number"
   ]
  },
  {
   "cell_type": "code",
   "execution_count": 6,
   "id": "bd8b3a90",
   "metadata": {},
   "outputs": [
    {
     "name": "stdout",
     "output_type": "stream",
     "text": [
      "f(1) = 1\n",
      "f(2) = 4\n",
      "f(3) = 9\n",
      "f(4) = 16\n",
      "f(5) = 25\n",
      "f(6) = 36\n",
      "f(7) = 49\n",
      "f(8) = 64\n",
      "f(9) = 81\n",
      "f(10) = 100\n"
     ]
    }
   ],
   "source": [
    "for num in range(1,11):\n",
    "    print(f\"f({num}) = {square(num)}\")"
   ]
  },
  {
   "cell_type": "markdown",
   "id": "5a6e32c3",
   "metadata": {},
   "source": [
    "## Floor function:"
   ]
  },
  {
   "cell_type": "code",
   "execution_count": 39,
   "id": "078da438",
   "metadata": {},
   "outputs": [],
   "source": [
    "def floor(num):\n",
    "    return int(num) if num - int(num) >= 0 else int(num) - 1"
   ]
  },
  {
   "cell_type": "code",
   "execution_count": 40,
   "id": "b6209fff",
   "metadata": {},
   "outputs": [],
   "source": [
    "# def floor(number):\n",
    "#     delta  = abs(number) % 1\n",
    "#     if number > 0:\n",
    "#         return (number - delta)\n",
    "#     else:\n",
    "#         if delta > 0:\n",
    "#             return number + delta - 1\n",
    "#         else:\n",
    "#             return number + delta"
   ]
  },
  {
   "cell_type": "code",
   "execution_count": 41,
   "id": "f301df85",
   "metadata": {},
   "outputs": [
    {
     "name": "stdout",
     "output_type": "stream",
     "text": [
      "floor(-4.0) = -4\n",
      "floor(-3.8) = -4\n",
      "floor(-3.5999999999999996) = -4\n",
      "floor(-3.3999999999999995) = -4\n",
      "floor(-3.1999999999999993) = -4\n",
      "floor(-2.999999999999999) = -3\n",
      "floor(-2.799999999999999) = -3\n",
      "floor(-2.5999999999999988) = -3\n",
      "floor(-2.3999999999999986) = -3\n",
      "floor(-2.1999999999999984) = -3\n",
      "floor(-1.9999999999999982) = -2\n",
      "floor(-1.799999999999998) = -2\n",
      "floor(-1.5999999999999979) = -2\n",
      "floor(-1.3999999999999977) = -2\n",
      "floor(-1.1999999999999975) = -2\n",
      "floor(-0.9999999999999973) = -1\n",
      "floor(-0.7999999999999972) = -1\n",
      "floor(-0.599999999999997) = -1\n",
      "floor(-0.3999999999999968) = -1\n",
      "floor(-0.19999999999999662) = -1\n",
      "floor(3.552713678800501e-15) = 0\n",
      "floor(0.20000000000000373) = 0\n",
      "floor(0.4000000000000039) = 0\n",
      "floor(0.6000000000000041) = 0\n",
      "floor(0.8000000000000043) = 0\n",
      "floor(1.0000000000000044) = 1\n",
      "floor(1.2000000000000046) = 1\n",
      "floor(1.4000000000000048) = 1\n",
      "floor(1.600000000000005) = 1\n",
      "floor(1.8000000000000052) = 1\n",
      "floor(2.0000000000000053) = 2\n",
      "floor(2.2000000000000055) = 2\n",
      "floor(2.4000000000000057) = 2\n",
      "floor(2.600000000000006) = 2\n",
      "floor(2.800000000000006) = 2\n",
      "floor(3.000000000000006) = 3\n",
      "floor(3.2000000000000064) = 3\n",
      "floor(3.4000000000000066) = 3\n",
      "floor(3.6000000000000068) = 3\n",
      "floor(3.800000000000007) = 3\n"
     ]
    }
   ],
   "source": [
    "import numpy as np\n",
    "\n",
    "for num in np.arange (-4, 4, 0.2):\n",
    "    print(f\"floor({num}) = {floor(num)}\")"
   ]
  },
  {
   "cell_type": "markdown",
   "id": "e2a7411e",
   "metadata": {},
   "source": [
    "## Ceiling Function"
   ]
  },
  {
   "cell_type": "code",
   "execution_count": 44,
   "id": "4fae8a66",
   "metadata": {},
   "outputs": [],
   "source": [
    "def ceil(num):\n",
    "    return int(num) if num - int(num) <= 0 else int(num) + 1"
   ]
  },
  {
   "cell_type": "code",
   "execution_count": 45,
   "id": "c3261b95",
   "metadata": {},
   "outputs": [
    {
     "name": "stdout",
     "output_type": "stream",
     "text": [
      "floor(-4.0) = -4\n",
      "floor(-3.8) = -3\n",
      "floor(-3.5999999999999996) = -3\n",
      "floor(-3.3999999999999995) = -3\n",
      "floor(-3.1999999999999993) = -3\n",
      "floor(-2.999999999999999) = -2\n",
      "floor(-2.799999999999999) = -2\n",
      "floor(-2.5999999999999988) = -2\n",
      "floor(-2.3999999999999986) = -2\n",
      "floor(-2.1999999999999984) = -2\n",
      "floor(-1.9999999999999982) = -1\n",
      "floor(-1.799999999999998) = -1\n",
      "floor(-1.5999999999999979) = -1\n",
      "floor(-1.3999999999999977) = -1\n",
      "floor(-1.1999999999999975) = -1\n",
      "floor(-0.9999999999999973) = 0\n",
      "floor(-0.7999999999999972) = 0\n",
      "floor(-0.599999999999997) = 0\n",
      "floor(-0.3999999999999968) = 0\n",
      "floor(-0.19999999999999662) = 0\n",
      "floor(3.552713678800501e-15) = 1\n",
      "floor(0.20000000000000373) = 1\n",
      "floor(0.4000000000000039) = 1\n",
      "floor(0.6000000000000041) = 1\n",
      "floor(0.8000000000000043) = 1\n",
      "floor(1.0000000000000044) = 2\n",
      "floor(1.2000000000000046) = 2\n",
      "floor(1.4000000000000048) = 2\n",
      "floor(1.600000000000005) = 2\n",
      "floor(1.8000000000000052) = 2\n",
      "floor(2.0000000000000053) = 3\n",
      "floor(2.2000000000000055) = 3\n",
      "floor(2.4000000000000057) = 3\n",
      "floor(2.600000000000006) = 3\n",
      "floor(2.800000000000006) = 3\n",
      "floor(3.000000000000006) = 4\n",
      "floor(3.2000000000000064) = 4\n",
      "floor(3.4000000000000066) = 4\n",
      "floor(3.6000000000000068) = 4\n",
      "floor(3.800000000000007) = 4\n"
     ]
    }
   ],
   "source": [
    "for num in np.arange (-4, 4, 0.2):\n",
    "    print(f\"floor({num}) = {ceil(num)}\")"
   ]
  },
  {
   "cell_type": "code",
   "execution_count": null,
   "id": "4caa2a5b",
   "metadata": {},
   "outputs": [],
   "source": [
    "-mkc"
   ]
  }
 ],
 "metadata": {
  "kernelspec": {
   "display_name": "Python 3 (ipykernel)",
   "language": "python",
   "name": "python3"
  },
  "language_info": {
   "codemirror_mode": {
    "name": "ipython",
    "version": 3
   },
   "file_extension": ".py",
   "mimetype": "text/x-python",
   "name": "python",
   "nbconvert_exporter": "python",
   "pygments_lexer": "ipython3",
   "version": "3.8.12"
  }
 },
 "nbformat": 4,
 "nbformat_minor": 5
}
